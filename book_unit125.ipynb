{
 "cells": [
  {
   "cell_type": "markdown",
   "metadata": {},
   "source": [
    "task from unit 125 Variables, Scope, Exceptions\n",
    "\n",
    "There is a file which contains temperatures in Celsius or Fahrenheit, one string per line. The strings are expected to look like this: 10F or -15C.\n",
    "\n",
    "Write a Python program which asks:\n",
    "- the user for an input value for the file location\n",
    "- reads the file line by line\n",
    "- converts each temperature to Fahrenheit if it is in Celsius\n",
    "- writes the converted values in a new file\n",
    "\n",
    "The input and output values should be floating-point numbers.\n",
    "\n",
    "What could make this program crash? What would we need to do to handle this situation more gracefully?"
   ]
  },
  {
   "cell_type": "code",
   "execution_count": 34,
   "metadata": {},
   "outputs": [
    {
     "name": "stdout",
     "output_type": "stream",
     "text": [
      "Program completed\n"
     ]
    }
   ],
   "source": [
    "# Fahrenheit to Celsius, subtract 30 then divide by 2. Celsius to Fahrenheit, multiply by 2 then add 30.Dec 22, 2022\n",
    "def convert(base, degree):\n",
    "    if (base == \"F\"):\n",
    "        return (degree - 30) / 2.0\n",
    "\n",
    "    if (base == \"C\"):\n",
    "        return (degree * 2.0) + 30\n",
    "\n",
    "# most common errors would be that file is not found, or the value is not in proper format <degree><type>\n",
    "\n",
    "#file_location = input(\"Enter file location and name\")\n",
    "file_location = \"G:\\D_WORK\\Adastra Python Hands on\\Adastra-Python-Hands-on\"\n",
    "file_name_input = \"file_unit125.txt\"\n",
    "file_name_output = \"file_unit125_output.txt\"\n",
    "\n",
    "try:\n",
    "    file1 = open(file_location + \"\\\\\" + file_name_input, 'r')\n",
    "    file2 = open(file_location + \"\\\\\" + file_name_output, 'w')\n",
    "\n",
    "    #Lines = file1.readlines()\n",
    "\n",
    "    for line in file1:\n",
    "        #rint(line.strip())\n",
    "\n",
    "        new_value = \"\"\n",
    "        if line.strip()[-1] == \"F\":\n",
    "            new_value = str(convert(\"F\", float(line.strip()[:-1]))) + \"C\"\n",
    "\n",
    "        elif line.strip()[-1] == \"C\":\n",
    "            new_value = str(convert(\"C\", float(line.strip()[:-1]))) + \"F\"\n",
    "        \n",
    "        else:\n",
    "            raise Exception(\"degree type not defines\")\n",
    "\n",
    "        file2.write(new_value + \"\\n\")\n",
    "\n",
    "    #file1 = open('myfile.txt', 'w')\n",
    "    #file1.writelines(L)\n",
    "    file1.close()\n",
    "    file2.close()\n",
    "\n",
    "except FileNotFoundError as file_issue:\n",
    "    print(file_issue)\n",
    "except Exception as ex:\n",
    "    print(ex)\n",
    "\n",
    "else:\n",
    "    #if not expection is raised, then complete and clean\n",
    "    print(\"Program completed\")\n"
   ]
  }
 ],
 "metadata": {
  "kernelspec": {
   "display_name": "Python 3",
   "language": "python",
   "name": "python3"
  },
  "language_info": {
   "codemirror_mode": {
    "name": "ipython",
    "version": 3
   },
   "file_extension": ".py",
   "mimetype": "text/x-python",
   "name": "python",
   "nbconvert_exporter": "python",
   "pygments_lexer": "ipython3",
   "version": "3.11.2"
  }
 },
 "nbformat": 4,
 "nbformat_minor": 2
}
