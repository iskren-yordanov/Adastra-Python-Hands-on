{
 "cells": [
  {
   "cell_type": "markdown",
   "metadata": {},
   "source": [
    "Write a function which takes any number of parameters and returns their average."
   ]
  },
  {
   "cell_type": "code",
   "execution_count": 32,
   "metadata": {},
   "outputs": [
    {
     "name": "stdout",
     "output_type": "stream",
     "text": [
      "3.5\n"
     ]
    }
   ],
   "source": [
    "def get_averages(*args : int) -> float:\n",
    "    \"\"\"A function to get average from any given number of parameters\"\"\"\n",
    "    \n",
    "    sum = 0\n",
    "    \n",
    "    for el in args:\n",
    "        sum += el\n",
    "    \n",
    "    # using := like this we need to have parantesys to make the order proper, lese\n",
    "    # cnt := len(args) <= 0 will put cnt as False/True\n",
    "    if (cnt := len(args)) <= 0:\n",
    "        raise Exception(\"function requires parameters\")\n",
    "    \n",
    "    \n",
    "    return sum / cnt\n",
    "\n",
    "\n",
    "\n",
    "try:\n",
    "    #print(get_averages())\n",
    "    #print(get_averages(1,2,3,4,5,6,7,8,9,10))\n",
    "    print(get_averages(2,5))\n",
    "    #print(get_averages.__doc__)\n",
    "    \n",
    "except Exception as e:\n",
    "    print(e)\n"
   ]
  },
  {
   "cell_type": "markdown",
   "metadata": {},
   "source": [
    "Write a function to calculate Lucas numbers using the naïve recursion. Lucas numbers are very similar to Fibonacci numbers and are defined by L(0)=2, L(1)=1 and L(n)=L(n-1)+L(n-2)"
   ]
  },
  {
   "cell_type": "code",
   "execution_count": 37,
   "metadata": {},
   "outputs": [
    {
     "name": "stdout",
     "output_type": "stream",
     "text": [
      "Lucas number 1 is 2\n",
      "Lucas number 2 is 1\n",
      "Lucas number 3 is 3\n",
      "Lucas number 4 is 4\n",
      "Lucas number 5 is 7\n",
      "Lucas number 6 is 11\n",
      "Lucas number 7 is 18\n",
      "Lucas number 8 is 29\n",
      "Lucas number 9 is 47\n",
      "Lucas number 10 is 76\n"
     ]
    }
   ],
   "source": [
    "def Lucal_numbers(size: int) -> int:\n",
    "    \n",
    "    if size == 1:\n",
    "        return 2\n",
    "    elif size == 2:\n",
    "        return 1\n",
    "    else:\n",
    "        return Lucal_numbers(size-1) + Lucal_numbers(size-2)\n",
    "    \n",
    "\n",
    "for i in range(1,11):\n",
    "    print(f\"Lucas number {i} is {Lucal_numbers(i)}\")\n"
   ]
  },
  {
   "cell_type": "markdown",
   "metadata": {},
   "source": [
    "Use a timing decorator to log how long each call. How long does it take to calculate L(35)? What about L(100)?"
   ]
  },
  {
   "cell_type": "code",
   "execution_count": 81,
   "metadata": {},
   "outputs": [
    {
     "name": "stdout",
     "output_type": "stream",
     "text": [
      "Function L(35,) {} Took 0.0000 seconds\n",
      "Lucas number 35 is 12752043\n",
      "Function L(100,) {} Took 0.0000 seconds\n",
      "Lucas number 100 is 489526700523968661124\n"
     ]
    }
   ],
   "source": [
    "from functools import wraps\n",
    "import time\n",
    "import collections\n",
    "import functools\n",
    "\n",
    "\n",
    "def timeit(func):\n",
    "    @wraps(func)\n",
    "    def timeit_wrapper(*args, **kwargs):\n",
    "        start_time = time.perf_counter()\n",
    "        result = func(*args, **kwargs)\n",
    "        end_time = time.perf_counter()\n",
    "        total_time = end_time - start_time\n",
    "        print(f'Function {func.__name__}{args} {kwargs} Took {total_time:.4f} seconds')\n",
    "        return result\n",
    "    return timeit_wrapper\n",
    "\n",
    "\n",
    "\n",
    "\n",
    "\n",
    "import functools\n",
    "import time\n",
    "\n",
    "# Python 3.9 released a new function functools.cache. It caches in memory the result of a function called with a particular set of arguments, which is memoization. It's easy to use:\n",
    "@functools.cache\n",
    "def Lucal_numbers(size: int) -> int:\n",
    "    \n",
    "    if size < 1:\n",
    "        raise ValueError(str(int))\n",
    "    elif size == 1:\n",
    "        return 2\n",
    "    elif size == 2:\n",
    "        return 1\n",
    "    else:\n",
    "        return Lucal_numbers(size-1) + Lucal_numbers(size-2)\n",
    "\n",
    "\n",
    "\n",
    "@timeit\n",
    "def L(position):    \n",
    "    return Lucal_numbers(position)\n",
    "\n",
    "\n",
    "try:\n",
    "    #for i in range(1,35):\n",
    "    #position = 0\n",
    "    #print(f\"Lucas number {position} is {L(position)}\")\n",
    "\n",
    "    position = 35\n",
    "    print(f\"Lucas number {position} is {L(position)}\")\n",
    "\n",
    "    position = 100\n",
    "    print(f\"Lucas number {position} is {L(position)}\")\n",
    "\n",
    "except:\n",
    "    pass"
   ]
  },
  {
   "cell_type": "markdown",
   "metadata": {},
   "source": [
    "Write a function which does prime factorization of a number, e.g. 20633239 = 11*29*71*911. Calculate the prime factorization of L(60) and L(61)."
   ]
  },
  {
   "cell_type": "markdown",
   "metadata": {},
   "source": [
    "so the algorithm is Number @ (a primer number) == 0 get this prime number\n",
    "after this continue with this muber until you reach number == prime number\n",
    "example:\n",
    "60 % 2 = 30 (get 2)\n",
    "30 % 2 = 15 (get 2)\n",
    "15 % 3 = 5 (get 3)\n",
    "5 % 5 = 1 (get 5)\n",
    "\n",
    "76 % 2 = 38 (get 2)\n",
    "38 % 2 = 19 (get 2)\n",
    "19 % 19 = 1 (get 19)"
   ]
  },
  {
   "cell_type": "code",
   "execution_count": 21,
   "metadata": {},
   "outputs": [
    {
     "name": "stdout",
     "output_type": "stream",
     "text": [
      "2\n",
      "2\n",
      "3\n",
      "5\n",
      "Function F(60,) {} Took 0.0001 seconds\n",
      "61\n",
      "Function F(61,) {} Took 0.0001 seconds\n",
      "2\n",
      "3\n",
      "5\n",
      "7\n",
      "11\n",
      "11\n",
      "13\n",
      "17\n",
      "Function F(5615610,) {} Took 0.0000 seconds\n"
     ]
    }
   ],
   "source": [
    "from functools import wraps\n",
    "import time\n",
    "import collections\n",
    "import functools\n",
    "\n",
    "\n",
    "def timeit(func):\n",
    "    @wraps(func)\n",
    "    def timeit_wrapper(*args, **kwargs):\n",
    "        start_time = time.perf_counter()\n",
    "        result = func(*args, **kwargs)\n",
    "        end_time = time.perf_counter()\n",
    "        total_time = end_time - start_time\n",
    "        print(f'Function {func.__name__}{args} {kwargs} Took {total_time:.4f} seconds')\n",
    "        return result\n",
    "    return timeit_wrapper\n",
    "\n",
    "\n",
    "\n",
    "def isPrimer(numb):\n",
    "    for i in range(2,numb):\n",
    "        if numb % i == 0:\n",
    "            return False\n",
    "    return True\n",
    "\n",
    "\n",
    "\n",
    "# Python 3.9 released a new function functools.cache. It caches in memory the result of a function called with a particular set of arguments, which is memoization. It's easy to use:\n",
    "@functools.cache\n",
    "def primer_factorization(number, primer = 2):\n",
    "    #print(number, primer)\n",
    "    if number == 1:\n",
    "        return 1\n",
    "    \n",
    "    if isPrimer(primer):\n",
    "        if (number % primer == 0):\n",
    "            print(primer)\n",
    "            primer_factorization(number // primer, 2)\n",
    "        else:\n",
    "            primer_factorization(number, primer+1)    \n",
    "    else:\n",
    "        primer_factorization(number, primer+1)\n",
    "\n",
    "\n",
    "\n",
    "@timeit\n",
    "def F(position):    \n",
    "    return primer_factorization(position)\n",
    "\n",
    "\n",
    "\n",
    "F(60) # 0.0001 seconds\n",
    "F(61) # 0.0000 seconds\n",
    "F(5615610) # 0.0000 seconds\n"
   ]
  }
 ],
 "metadata": {
  "kernelspec": {
   "display_name": "Python 3",
   "language": "python",
   "name": "python3"
  },
  "language_info": {
   "codemirror_mode": {
    "name": "ipython",
    "version": 3
   },
   "file_extension": ".py",
   "mimetype": "text/x-python",
   "name": "python",
   "nbconvert_exporter": "python",
   "pygments_lexer": "ipython3",
   "version": "3.11.2"
  }
 },
 "nbformat": 4,
 "nbformat_minor": 2
}
