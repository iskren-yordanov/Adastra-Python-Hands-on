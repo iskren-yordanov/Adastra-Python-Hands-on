{
 "cells": [
  {
   "cell_type": "code",
   "execution_count": 3,
   "metadata": {},
   "outputs": [
    {
     "name": "stdout",
     "output_type": "stream",
     "text": [
      "Iskren\n",
      "sIkren\n",
      "Iksren\n",
      "skIren\n",
      "srIken\n",
      "kIrsen\n",
      "rIksen\n",
      "srkIen\n",
      "ksrIen\n",
      "skrIen\n",
      "rekIsn\n",
      "rkeIsn\n",
      "kIersn\n",
      "keIrsn\n",
      "ekIrsn\n",
      "erIksn\n",
      "reIksn\n",
      "Ierksn\n",
      "rIkesn\n",
      "kIresn\n",
      "first task + modified\n"
     ]
    }
   ],
   "source": [
    "\"\"\"Module providing a function printing python version.\"\"\"\n",
    "\n",
    "#import sys\n",
    "import random\n",
    "#import math\n",
    "\n",
    "def generate_permutations(a, n):\n",
    "    '''first task + modified'''\n",
    "    # provide context, that counter is a global variable, and not a local,\n",
    "    # and this way it is linked with the value defined outside the function\n",
    "    global counter \n",
    "    \n",
    "    if n == 0:\n",
    "        rand = random.randrange(0,2)\n",
    "        #print(counter)\n",
    "        if rand and counter < 20:\n",
    "            print(''.join(a))\n",
    "            counter +=1\n",
    "        \n",
    "            \n",
    "            \n",
    "    else:\n",
    "        for i in range(n):\n",
    "            generate_permutations(a, n-1)\n",
    "            j = 0 if n % 2 == 0 else i\n",
    "            a[j], a[n] = a[n], a[j]\n",
    "        generate_permutations(a, n-1)\n",
    "    \n",
    "    \n",
    "\n",
    "#if len(sys.argv) != 2:\n",
    "#    sys.stderr.write('Exxactly one argument is required\\n')\n",
    "#    sys.exit(1)\n",
    "\n",
    "word = \"Iskren\"\n",
    "word = sys.argv[1]\n",
    "counter = 0 # this anoys me a lot !!!!\n",
    "  \n",
    "generate_permutations(list(word), len(word)-1)\n",
    "\n",
    "print(generate_permutations.__doc__)\n"
   ]
  },
  {
   "cell_type": "markdown",
   "metadata": {},
   "source": [
    "py -m pylint book_tasks.ipynb"
   ]
  },
  {
   "cell_type": "markdown",
   "metadata": {},
   "source": [
    "testttt"
   ]
  }
 ],
 "metadata": {
  "kernelspec": {
   "display_name": "Python 3",
   "language": "python",
   "name": "python3"
  },
  "language_info": {
   "codemirror_mode": {
    "name": "ipython",
    "version": 3
   },
   "file_extension": ".py",
   "mimetype": "text/x-python",
   "name": "python",
   "nbconvert_exporter": "python",
   "pygments_lexer": "ipython3",
   "version": "3.11.2"
  }
 },
 "nbformat": 4,
 "nbformat_minor": 2
}
