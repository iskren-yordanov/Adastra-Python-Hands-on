{
 "cells": [
  {
   "cell_type": "code",
   "execution_count": 3,
   "metadata": {},
   "outputs": [
    {
     "name": "stdout",
     "output_type": "stream",
     "text": [
      "Iskren\n",
      "sIkren\n",
      "Iksren\n",
      "skIren\n",
      "srIken\n",
      "kIrsen\n",
      "rIksen\n",
      "srkIen\n",
      "ksrIen\n",
      "skrIen\n",
      "rekIsn\n",
      "rkeIsn\n",
      "kIersn\n",
      "keIrsn\n",
      "ekIrsn\n",
      "erIksn\n",
      "reIksn\n",
      "Ierksn\n",
      "rIkesn\n",
      "kIresn\n",
      "first task + modified\n"
     ]
    }
   ],
   "source": [
    "\"\"\"Module providing a function printing python version.\"\"\"\n",
    "\n",
    "#import sys\n",
    "import random\n",
    "#import math\n",
    "\n",
    "def generate_permutations(a, n):\n",
    "    '''first task + modified'''\n",
    "    # provide context, that counter is a global variable, and not a local,\n",
    "    # and this way it is linked with the value defined outside the function\n",
    "    global counter \n",
    "    \n",
    "    if n == 0:\n",
    "        rand = random.randrange(0,2)\n",
    "        #print(counter)\n",
    "        if rand and counter < 20:\n",
    "            print(''.join(a))\n",
    "            counter +=1\n",
    "        \n",
    "            \n",
    "            \n",
    "    else:\n",
    "        for i in range(n):\n",
    "            generate_permutations(a, n-1)\n",
    "            j = 0 if n % 2 == 0 else i\n",
    "            a[j], a[n] = a[n], a[j]\n",
    "        generate_permutations(a, n-1)\n",
    "    \n",
    "    \n",
    "\n",
    "#if len(sys.argv) != 2:\n",
    "#    sys.stderr.write('Exxactly one argument is required\\n')\n",
    "#    sys.exit(1)\n",
    "\n",
    "word = \"Iskren\"\n",
    "word = sys.argv[1]\n",
    "counter = 0 # this anoys me a lot !!!!\n",
    "  \n",
    "generate_permutations(list(word), len(word)-1)\n",
    "\n",
    "print(generate_permutations.__doc__)\n"
   ]
  },
  {
   "cell_type": "code",
   "execution_count": 16,
   "metadata": {},
   "outputs": [
    {
     "name": "stdout",
     "output_type": "stream",
     "text": [
      "140709977912232\n",
      "1623567761536\n",
      "140709977912232\n",
      "140709977912168\n",
      "1623567993584\n",
      "1623567993584\n",
      "1623571781424\n",
      "140709977912264\n",
      "5\n",
      "6\n"
     ]
    }
   ],
   "source": [
    "a = 5 # 5 is an object\n",
    "b = {'x': 5, 'y': 3} # dicts are objects\n",
    "c = \"hello\" # strings are objects too\n",
    "d =c # two variables sharing an object\n",
    "e =c.lower() # should generate a new object\n",
    "f = 8 *b['y'] -19 # what happens here?\n",
    "f += 1\n",
    "for obj in (a,b,b['x'],b['y'],c,d,e,f):\n",
    "    print(id(obj))\n",
    "print(a)\n",
    "print(f)"
   ]
  },
  {
   "cell_type": "markdown",
   "metadata": {},
   "source": [
    "py -m pylint book_tasks.ipynb"
   ]
  },
  {
   "cell_type": "markdown",
   "metadata": {},
   "source": [
    "testttt"
   ]
  },
  {
   "cell_type": "code",
   "execution_count": 3,
   "metadata": {},
   "outputs": [
    {
     "name": "stdout",
     "output_type": "stream",
     "text": [
      "8 3\n",
      "7 4\n"
     ]
    }
   ],
   "source": [
    "def divide(dividend, divisor): \n",
    "    quotient = dividend // divisor \n",
    "    remainder = dividend % divisor \n",
    "    return quotient,remainder\n",
    "\n",
    "# you can do thisq,r =divide(35, 4)\n",
    "q,r =divide(35, 4)\n",
    "print(q,r)\n",
    "# you can also do this\n",
    "result =divide(67, 9)\n",
    "q1 = result[0]\n",
    "q2 = result[1]\n",
    "print(q1, q2)\n",
    "# by the way, you can also do this\n",
    "\n",
    "a,b = (1, 2)\n",
    "# or this\n",
    "c,d = [5, 6]"
   ]
  },
  {
   "cell_type": "code",
   "execution_count": 10,
   "metadata": {},
   "outputs": [
    {
     "name": "stdout",
     "output_type": "stream",
     "text": [
      "Hello Iskren\n",
      "Hello Pesho\n"
     ]
    }
   ],
   "source": [
    "import datetime\n",
    "\n",
    "def log(original_function):\n",
    "    def new_function(*args, **kwargs):\n",
    "        with open(\"log.txt\", \"a\") as logfile:\n",
    "            logfile.write(\"%s: Function '%s' called with positional arguments %s \"\n",
    "                          \"and keyword arguments %s.\\n\" % \n",
    "                          (datetime.datetime.now(), original_function.__name__, args, kwargs))\n",
    "            \n",
    "            return original_function(*args, **kwargs)\n",
    "        \n",
    "    return new_function\n",
    "\n",
    "@log\n",
    "def my_function(name: str):\n",
    "    print(f\"Hello {name}\")\n",
    "\n",
    "\n",
    "my_function(\"Iskren\")\n",
    "my_function(name = \"Pesho\")"
   ]
  }
 ],
 "metadata": {
  "kernelspec": {
   "display_name": "Python 3",
   "language": "python",
   "name": "python3"
  },
  "language_info": {
   "codemirror_mode": {
    "name": "ipython",
    "version": 3
   },
   "file_extension": ".py",
   "mimetype": "text/x-python",
   "name": "python",
   "nbconvert_exporter": "python",
   "pygments_lexer": "ipython3",
   "version": "3.11.2"
  }
 },
 "nbformat": 4,
 "nbformat_minor": 2
}
