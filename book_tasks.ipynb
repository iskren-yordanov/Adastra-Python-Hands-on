{
 "cells": [
  {
   "cell_type": "code",
   "execution_count": 19,
   "metadata": {},
   "outputs": [
    {
     "name": "stdout",
     "output_type": "stream",
     "text": [
      "Iskren\n",
      "sIkren\n",
      "kIsren\n",
      "Iksren\n",
      "ksIren\n",
      "rsIken\n",
      "srIken\n",
      "Irsken\n",
      "Ikrsen\n",
      "kIrsen\n",
      "rIksen\n",
      "Irksen\n",
      "rkIsen\n",
      "krsIen\n",
      "rskIen\n",
      "skrIen\n",
      "ekrIsn\n",
      "kerIsn\n",
      "rekIsn\n",
      "erkIsn\n"
     ]
    }
   ],
   "source": [
    "import sys\n",
    "import random, math\n",
    "\n",
    "\n",
    "def generate_permutations(a, n):\n",
    "    # provide context, that counter is a global variable, and not a local, and this way it is linked with the value defined outside the function\n",
    "    global counter \n",
    "    \n",
    "    if n == 0:\n",
    "        rand = random.randrange(0,2)\n",
    "        #print(counter)\n",
    "        if rand and counter < 20:\n",
    "            print(''.join(a))\n",
    "            counter +=1\n",
    "        \n",
    "            \n",
    "            \n",
    "    else:\n",
    "        for i in range(n):\n",
    "            generate_permutations(a, n-1)\n",
    "            j = 0 if n % 2 == 0 else i\n",
    "            a[j], a[n] = a[n], a[j]\n",
    "        generate_permutations(a, n-1)\n",
    "    \n",
    "    \n",
    "\n",
    "# if len(sys.argv) != 2:\n",
    "#    sys.stderr.write('Exxactly one argument is required\\n')\n",
    "#    sys.exit(1)\n",
    "\n",
    "#word = sys.argv[1]\n",
    "counter = 0\n",
    "word = \"Iskren\"\n",
    "\n",
    "  \n",
    "generate_permutations(list(word), len(word)-1)"
   ]
  },
  {
   "cell_type": "code",
   "execution_count": 9,
   "metadata": {},
   "outputs": [
    {
     "name": "stdout",
     "output_type": "stream",
     "text": [
      "test\n"
     ]
    }
   ],
   "source": [
    "print(\"test\")"
   ]
  },
  {
   "cell_type": "code",
   "execution_count": 1,
   "metadata": {},
   "outputs": [
    {
     "name": "stdout",
     "output_type": "stream",
     "text": [
      "some change\n"
     ]
    }
   ],
   "source": [
    "print(\"some change\")"
   ]
  }
 ],
 "metadata": {
  "kernelspec": {
   "display_name": "Python 3",
   "language": "python",
   "name": "python3"
  },
  "language_info": {
   "codemirror_mode": {
    "name": "ipython",
    "version": 3
   },
   "file_extension": ".py",
   "mimetype": "text/x-python",
   "name": "python",
   "nbconvert_exporter": "python",
   "pygments_lexer": "ipython3",
   "version": "3.11.2"
  }
 },
 "nbformat": 4,
 "nbformat_minor": 2
}
