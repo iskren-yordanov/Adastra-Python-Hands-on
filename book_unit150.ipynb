{
 "cells": [
  {
   "cell_type": "markdown",
   "metadata": {},
   "source": [
    "Write a function which takes any number of parameters and returns their average."
   ]
  },
  {
   "cell_type": "code",
   "execution_count": 32,
   "metadata": {},
   "outputs": [
    {
     "name": "stdout",
     "output_type": "stream",
     "text": [
      "3.5\n"
     ]
    }
   ],
   "source": [
    "def get_averages(*args : int) -> float:\n",
    "    \"\"\"A function to get average from any given number of parameters\"\"\"\n",
    "    \n",
    "    sum = 0\n",
    "    \n",
    "    for el in args:\n",
    "        sum += el\n",
    "    \n",
    "    # using := like this we need to have parantesys to make the order proper, lese\n",
    "    # cnt := len(args) <= 0 will put cnt as False/True\n",
    "    if (cnt := len(args)) <= 0:\n",
    "        raise Exception(\"function requires parameters\")\n",
    "    \n",
    "    \n",
    "    return sum / cnt\n",
    "\n",
    "\n",
    "\n",
    "try:\n",
    "    #print(get_averages())\n",
    "    #print(get_averages(1,2,3,4,5,6,7,8,9,10))\n",
    "    print(get_averages(2,5))\n",
    "    #print(get_averages.__doc__)\n",
    "    \n",
    "except Exception as e:\n",
    "    print(e)\n"
   ]
  },
  {
   "cell_type": "markdown",
   "metadata": {},
   "source": [
    "Write a function to calculate Lucas numbers using the naïve recursion. Lucas numbers are very similar to Fibonacci numbers and are defined by L(0)=2, L(1)=1 and L(n)=L(n-1)+L(n-2)"
   ]
  },
  {
   "cell_type": "code",
   "execution_count": 37,
   "metadata": {},
   "outputs": [
    {
     "name": "stdout",
     "output_type": "stream",
     "text": [
      "Lucas number 1 is 2\n",
      "Lucas number 2 is 1\n",
      "Lucas number 3 is 3\n",
      "Lucas number 4 is 4\n",
      "Lucas number 5 is 7\n",
      "Lucas number 6 is 11\n",
      "Lucas number 7 is 18\n",
      "Lucas number 8 is 29\n",
      "Lucas number 9 is 47\n",
      "Lucas number 10 is 76\n"
     ]
    }
   ],
   "source": [
    "def Lucal_numbers(size: int) -> int:\n",
    "    \n",
    "    if size == 1:\n",
    "        return 2\n",
    "    elif size == 2:\n",
    "        return 1\n",
    "    else:\n",
    "        return Lucal_numbers(size-1) + Lucal_numbers(size-2)\n",
    "    \n",
    "\n",
    "for i in range(1,11):\n",
    "    print(f\"Lucas number {i} is {Lucal_numbers(i)}\")\n"
   ]
  },
  {
   "cell_type": "markdown",
   "metadata": {},
   "source": [
    "Use a timing decorator to log how long each call. How long does it take to calculate L(35)? What about L(100)?"
   ]
  },
  {
   "cell_type": "code",
   "execution_count": 69,
   "metadata": {},
   "outputs": [],
   "source": [
    "from functools import wraps\n",
    "import time\n",
    "import collections\n",
    "import functools\n",
    "\n",
    "class memoized(object):\n",
    "     \n",
    "    '''Decorator. Caches a function's return value each time it is called.\n",
    "    If called later with the same arguments, the cached value is returned\n",
    "    (not reevaluated).\n",
    "    '''\n",
    "\n",
    "    def __init__(self, func):\n",
    "       self.func = func\n",
    "       self.cache = {}\n",
    "\n",
    "    def __call__(self, *args):\n",
    "       if not isinstance(args, collections.Hashable):\n",
    "          # uncacheable. a list, for instance.\n",
    "          # better to not cache than blow up.\n",
    "          return self.func(*args)\n",
    "       if args in self.cache:\n",
    "          return self.cache[args]\n",
    "       else:\n",
    "          value = self.func(*args)\n",
    "          self.cache[args] = value\n",
    "          return value\n",
    "       \n",
    "    def __repr__(self):\n",
    "       '''Return the function's docstring.'''\n",
    "       return self.func.__doc__\n",
    "    \n",
    "    def __get__(self, obj, objtype):\n",
    "       '''Support instance methods.'''\n",
    "       return functools.partial(self.__call__, obj)\n",
    "\n",
    "def timeit(func):\n",
    "    @wraps(func)\n",
    "    def timeit_wrapper(*args, **kwargs):\n",
    "        start_time = time.perf_counter()\n",
    "        result = func(*args, **kwargs)\n",
    "        end_time = time.perf_counter()\n",
    "        total_time = end_time - start_time\n",
    "        print(f'Function {func.__name__}{args} {kwargs} Took {total_time:.4f} seconds')\n",
    "        return result\n",
    "    return timeit_wrapper\n",
    "\n",
    "@timeit\n",
    "@memoized\n",
    "def Lucal_numbers(size: int) -> int:\n",
    "    \n",
    "    if size < 1:\n",
    "        raise ValueError(str(int))\n",
    "    elif size == 1:\n",
    "        return 2\n",
    "    elif size == 2:\n",
    "        return 1\n",
    "    else:\n",
    "        return Lucal_numbers(size-1) + Lucal_numbers(size-2)\n",
    "    \n",
    "\n",
    "\n",
    "\n",
    "\n",
    "\n",
    "\n",
    "#def L(position):\n",
    "#    return Lucal_numbers(position)\n",
    "\n",
    "try:\n",
    "    #for i in range(1,35):\n",
    "    #position = 0\n",
    "    #print(f\"Lucas number {position} is {L(position)}\")\n",
    "\n",
    "    position = 35\n",
    "    print(f\"Lucas number {position} is {Lucal_numbers(position)}\")\n",
    "\n",
    "    position = 100\n",
    "    print(f\"Lucas number {position} is {L(position)}\")\n",
    "\n",
    "except:\n",
    "    pass"
   ]
  }
 ],
 "metadata": {
  "kernelspec": {
   "display_name": "Python 3",
   "language": "python",
   "name": "python3"
  },
  "language_info": {
   "codemirror_mode": {
    "name": "ipython",
    "version": 3
   },
   "file_extension": ".py",
   "mimetype": "text/x-python",
   "name": "python",
   "nbconvert_exporter": "python",
   "pygments_lexer": "ipython3",
   "version": "3.11.2"
  }
 },
 "nbformat": 4,
 "nbformat_minor": 2
}
